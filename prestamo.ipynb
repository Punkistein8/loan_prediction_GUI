{
 "cells": [
  {
   "attachments": {},
   "cell_type": "markdown",
   "metadata": {},
   "source": [
    "## Importacion de librerias y carga de data\n"
   ]
  },
  {
   "cell_type": "code",
   "execution_count": 1,
   "metadata": {},
   "outputs": [],
   "source": [
    "import numpy as np\n",
    "import pandas as pd\n",
    "import seaborn as sns\n",
    "from matplotlib import pyplot as plt\n",
    "import warnings \n",
    "warnings.filterwarnings('ignore')\n",
    "\n",
    "%matplotlib inline"
   ]
  },
  {
   "cell_type": "code",
   "execution_count": 2,
   "metadata": {},
   "outputs": [],
   "source": [
    "# Cargamos los datos\n",
    "train = pd.read_csv('train_ctrUa4K.csv')\n",
    "test = pd.read_csv('test_lAUu6dG.csv')\n",
    "\n",
    "# Copias de los datos originales\n",
    "train_original = train.copy()\n",
    "test_original = test.copy()"
   ]
  },
  {
   "attachments": {},
   "cell_type": "markdown",
   "metadata": {},
   "source": [
    "## Proceso EDA\n"
   ]
  },
  {
   "cell_type": "code",
   "execution_count": null,
   "metadata": {},
   "outputs": [],
   "source": [
    "train.head()"
   ]
  },
  {
   "cell_type": "code",
   "execution_count": null,
   "metadata": {},
   "outputs": [],
   "source": [
    "# mostrar la cantidad de prestamos en estado aprobados (Y) y no aprobados (N)\n",
    "# separados por categoria (loan_status), en un grafico de barras\n",
    "train['Loan_Status'].value_counts(normalize=True).plot.bar(\n",
    "    figsize=(5, 3), title='Loan_Status')"
   ]
  },
  {
   "cell_type": "code",
   "execution_count": null,
   "metadata": {},
   "outputs": [],
   "source": [
    "plt.figure(1)\n",
    "\n",
    "plt.subplot(221)\n",
    "df = train.dropna()\n",
    "# para ver la distribucion de los datos del monto del prestamo\n",
    "sns.distplot(df['LoanAmount'])\n",
    "# En este primer grafico se puede observar que la distribucion de los datos del monto del prestamo es anormal\n",
    "# ya que tenemos lo que se llama right skewness, es decir, la cola de la distribucion se extiende hacia la derecha\n",
    "# lo que denota que hay valores atipicos (outliers) en los datos\n",
    "\n",
    "# para ver la distribucion de los datos del monto del prestamo por genero\n",
    "train.boxplot(column='LoanAmount', by='Gender')"
   ]
  },
  {
   "attachments": {},
   "cell_type": "markdown",
   "metadata": {},
   "source": [
    "### - Relacionando variables independientes con variable dependiente\n"
   ]
  },
  {
   "cell_type": "code",
   "execution_count": null,
   "metadata": {},
   "outputs": [],
   "source": [
    "Gender = pd.crosstab(train['Gender'], train['Loan_Status'])\n",
    "print(Gender)  # para ver la cantidad de prestamos aprobados y no aprobados por genero\n",
    "# para ver la relacion entre el porcentaje de prestamos aprobados y no aprobados por genero\n",
    "Gender.div(Gender.sum(1).astype(float), axis=0).plot(\n",
    "    kind=\"bar\", stacked=True, figsize=(4, 4))"
   ]
  },
  {
   "cell_type": "code",
   "execution_count": null,
   "metadata": {},
   "outputs": [],
   "source": [
    "Married = pd.crosstab(train['Married'], train['Loan_Status'])\n",
    "# para ver la cantidad de prestamos aprobados y no aprobados por estado civil\n",
    "print(Married)\n",
    "# para ver la relacion entre el porcentaje de prestamos aprobados y no aprobados por estado civil\n",
    "Married.div(Married.sum(1).astype(float), axis=0).plot(\n",
    "    kind=\"bar\", stacked=True, figsize=(4, 4))"
   ]
  },
  {
   "cell_type": "code",
   "execution_count": null,
   "metadata": {},
   "outputs": [],
   "source": [
    "Dependents = pd.crosstab(train['Dependents'], train['Loan_Status'])\n",
    "# para ver la cantidad de prestamos aprobados y no aprobados por dependientes\n",
    "print(Dependents)\n",
    "# para ver la relacion entre el porcentaje de prestamos aprobados y no aprobados por dependientes\n",
    "Dependents.div(Dependents.sum(1).astype(float), axis=0).plot(\n",
    "    kind=\"bar\", stacked=True, figsize=(4, 4))"
   ]
  },
  {
   "cell_type": "code",
   "execution_count": null,
   "metadata": {},
   "outputs": [],
   "source": [
    "train['Total_Income'] = train['ApplicantIncome'] + train['CoapplicantIncome']\n",
    "\n",
    "bins = [0, 2500, 4000, 6000, 81000]\n",
    "group = ['Low', 'Average', 'High', 'Very high']\n",
    "train['Total_Income_bin'] = pd.cut(train['Total_Income'], bins, labels=group)\n",
    "\n",
    "Total_Income_bin = pd.crosstab(train['Total_Income_bin'], train['Loan_Status'])\n",
    "# para ver la cantidad de prestamos aprobados y no aprobados por ingreso total\n",
    "print(Total_Income_bin)\n",
    "# para ver la relacion entre el porcentaje de prestamos aprobados y no aprobados por ingreso total\n",
    "Total_Income_bin.div(Total_Income_bin.sum(1).astype(float), axis=0).plot(\n",
    "    kind=\"bar\", stacked=True, figsize=(4, 4))"
   ]
  },
  {
   "attachments": {},
   "cell_type": "markdown",
   "metadata": {},
   "source": [
    "## Transformando las variables cualitativas a cuantitavas\n"
   ]
  },
  {
   "cell_type": "code",
   "execution_count": null,
   "metadata": {},
   "outputs": [],
   "source": [
    "# train = train.drop(['Total_Income_bin', 'Total_Income', 'Income_bin'], axis=1)\n",
    "# train = train.drop(['Loan_ID', 'Married', 'Self_Employed', 'Education', 'Property_Area'], axis=1)\n",
    "# usar esta instruccion para eliminar las columnas que no se van a usar"
   ]
  },
  {
   "cell_type": "code",
   "execution_count": 3,
   "metadata": {},
   "outputs": [],
   "source": [
    "train['Dependents'].replace('3+', 3, inplace=True)\n",
    "test['Dependents'].replace('3+', 3, inplace=True)\n",
    "train['Loan_Status'].replace('N', 0, inplace=True)\n",
    "train['Loan_Status'].replace('Y', 1, inplace=True)\n",
    "train['Gender'].replace('Male', 0, inplace=True)\n",
    "train['Gender'].replace('Female', 1, inplace=True)\n",
    "test['Gender'].replace('Male', 0, inplace=True)\n",
    "test['Gender'].replace('Female', 1, inplace=True)"
   ]
  },
  {
   "attachments": {},
   "cell_type": "markdown",
   "metadata": {},
   "source": [
    "## Matriz de Correlación entre variables numéricas\n"
   ]
  },
  {
   "cell_type": "code",
   "execution_count": null,
   "metadata": {},
   "outputs": [],
   "source": [
    "# OJO LIMPIA LA DATA ANTES DE USAR ESTA INSTRUCCION\n",
    "matrix = train.corr()\n",
    "f, ax = plt.subplots(figsize=(9, 6))\n",
    "sns.heatmap(matrix, annot=True, vmax=.8, square=True, cmap=\"BuPu\")"
   ]
  },
  {
   "attachments": {},
   "cell_type": "markdown",
   "metadata": {},
   "source": [
    "## Valores perdidos y tratamiento de variables con valores atípicos\n"
   ]
  },
  {
   "attachments": {},
   "cell_type": "markdown",
   "metadata": {},
   "source": [
    "#### - Llenando valores perdidos\n"
   ]
  },
  {
   "cell_type": "code",
   "execution_count": null,
   "metadata": {},
   "outputs": [],
   "source": [
    "train.isnull().sum()  # para ver la cantidad de datos nulos en cada columna"
   ]
  },
  {
   "cell_type": "code",
   "execution_count": 4,
   "metadata": {},
   "outputs": [],
   "source": [
    "# Aqui se reemplazan los datos nulos por la moda de cada columna\n",
    "# es una practica comun para los datos categoricos (no numericos)\n",
    "train['Gender'].fillna(train['Gender'].mode()[0], inplace=True)\n",
    "train['Married'].fillna(train['Married'].mode()[0], inplace=True)\n",
    "train['Dependents'].fillna(train['Dependents'].mode()[0], inplace=True)\n",
    "train['Self_Employed'].fillna(train['Self_Employed'].mode()[0], inplace=True)\n",
    "train['Credit_History'].fillna(train['Credit_History'].mode()[0], inplace=True)"
   ]
  },
  {
   "cell_type": "code",
   "execution_count": 5,
   "metadata": {},
   "outputs": [],
   "source": [
    "# Aqui se hace lo mismo pero para los datos de prueba\n",
    "test['Gender'].fillna(test['Gender'].mode()[0], inplace=True)\n",
    "test['Married'].fillna(test['Married'].mode()[0], inplace=True)\n",
    "test['Dependents'].fillna(test['Dependents'].mode()[0], inplace=True)\n",
    "test['Self_Employed'].fillna(test['Self_Employed'].mode()[0], inplace=True)\n",
    "test['Credit_History'].fillna(test['Credit_History'].mode()[0], inplace=True)"
   ]
  },
  {
   "cell_type": "code",
   "execution_count": 6,
   "metadata": {},
   "outputs": [],
   "source": [
    "# para ver la cantidad de datos en cada valor de la columna\n",
    "train['Loan_Amount_Term'].value_counts()\n",
    "\n",
    "# Aqui vamos a reemplazar los datos nulos por la moda de la columna\n",
    "train['Loan_Amount_Term'].fillna(\n",
    "    train['Loan_Amount_Term'].mode()[0], inplace=True)"
   ]
  },
  {
   "cell_type": "code",
   "execution_count": 7,
   "metadata": {},
   "outputs": [],
   "source": [
    "# Llenando nulos tambien pero para los datos de prueba (test)\n",
    "test['Loan_Amount_Term'].value_counts()\n",
    "test['Loan_Amount_Term'].fillna(\n",
    "    test['Loan_Amount_Term'].mode()[0], inplace=True)"
   ]
  },
  {
   "cell_type": "code",
   "execution_count": 8,
   "metadata": {},
   "outputs": [],
   "source": [
    "# llenamos los datos nulos con la media de la columna porque son datos\n",
    "# no categoricos (numericos)\n",
    "train['LoanAmount'].fillna(train['LoanAmount'].median(), inplace=True)"
   ]
  },
  {
   "cell_type": "code",
   "execution_count": 9,
   "metadata": {},
   "outputs": [],
   "source": [
    "# llenamos los datos nulos con de LoanAmount en los datos de prueba (test)\n",
    "test['LoanAmount'].fillna(test['LoanAmount'].median(), inplace=True)"
   ]
  },
  {
   "attachments": {},
   "cell_type": "markdown",
   "metadata": {},
   "source": [
    "#### - Tratamiento de valores atípicos\n"
   ]
  },
  {
   "cell_type": "code",
   "execution_count": 10,
   "metadata": {},
   "outputs": [
    {
     "data": {
      "text/plain": [
       "<Axes: >"
      ]
     },
     "execution_count": 10,
     "metadata": {},
     "output_type": "execute_result"
    },
    {
     "data": {
      "image/png": "[encoded data removed]",
      "text/plain": [
       "<Figure size 640x480 with 1 Axes>"
      ]
     },
     "metadata": {},
     "output_type": "display_data"
    }
   ],
   "source": [
    "# al tener que la variable LoanAmount tiene valores muy dispersos,\n",
    "# se usa la funcion logaritmica para que los datos se distribuyan de\n",
    "# una manera mas uniforme y se puedan usar para el modelo (haremos este\n",
    "# cambio en los datos de entrenamiento y en los de prueba)\n",
    "train['LoanAmount_log'] = np.log(train['LoanAmount'])\n",
    "train['LoanAmount_log'].hist(bins=20)\n",
    "test['LoanAmount_log'] = np.log(test['LoanAmount'])\n",
    "test['LoanAmount_log'].hist(bins=20)"
   ]
  },
  {
   "attachments": {},
   "cell_type": "markdown",
   "metadata": {},
   "source": [
    "# Construcción del modelo de regresión logística\n"
   ]
  },
  {
   "cell_type": "code",
   "execution_count": null,
   "metadata": {},
   "outputs": [],
   "source": [
    "# Justificacion https://courses.analyticsvidhya.com/courses/take/loan-prediction-practice-problem-using-python/texts/6119689-model-building-part-i"
   ]
  },
  {
   "cell_type": "code",
   "execution_count": 11,
   "metadata": {},
   "outputs": [],
   "source": [
    "# se elimina la columna Loan_ID porque no se va a usar\n",
    "train = train.drop('Loan_ID', axis=1)\n",
    "# se elimina la columna Loan_ID porque no se va a usar\n",
    "test = test.drop('Loan_ID', axis=1)"
   ]
  },
  {
   "cell_type": "code",
   "execution_count": 12,
   "metadata": {},
   "outputs": [],
   "source": [
    "# se elimina la columna Loan_Status porque es la que se va a predecir\n",
    "X = train.drop('Loan_Status', axis=1)\n",
    "y = train.Loan_Status  # se guarda la columna Loan_Status en una variable"
   ]
  },
  {
   "cell_type": "code",
   "execution_count": 15,
   "metadata": {},
   "outputs": [],
   "source": [
    "X = pd.get_dummies(X)  # se convierten los datos categoricos en numericos\n",
    "train = pd.get_dummies(train)\n",
    "test = pd.get_dummies(test)"
   ]
  },
  {
   "cell_type": "code",
   "execution_count": 13,
   "metadata": {},
   "outputs": [],
   "source": [
    "from sklearn.model_selection import train_test_split\n",
    "\n",
    "x_train, x_cv, y_train, y_cv = train_test_split(X, y, test_size=0.3)"
   ]
  },
  {
   "cell_type": "code",
   "execution_count": null,
   "metadata": {},
   "outputs": [],
   "source": [
    "# para usar la regresion logistica\n",
    "from sklearn.linear_model import LogisticRegression\n",
    "from sklearn.metrics import accuracy_score  # para ver la precision del modelo\n",
    "\n",
    "model = LogisticRegression()  # se crea el modelo\n",
    "# se entrena el modelo con los datos de entrenamiento\n",
    "model.fit(x_train, y_train)\n",
    "\n",
    "# aqui vamos a predecir los datos de validacion\n",
    "LogisticRegression(C=1.0, class_weight=None, dual=False, fit_intercept=True,\n",
    "                   intercept_scaling=1, max_iter=100, multi_class='ovr',\n",
    "                   n_jobs=1, penalty='l2', random_state=1, solver='liblinear',\n",
    "                   tol=0.0001, verbose=0, warm_start=False)"
   ]
  },
  {
   "cell_type": "code",
   "execution_count": null,
   "metadata": {},
   "outputs": [],
   "source": [
    "# se hacen las predicciones con los datos de prueba\n",
    "pred_cv = model.predict(x_cv)\n",
    "accuracy_score(y_cv, pred_cv)  # se calcula la exactitud del modelo"
   ]
  },
  {
   "attachments": {},
   "cell_type": "markdown",
   "metadata": {},
   "source": [
    "# Predicción de aprobación de préstamos con datos propios\n"
   ]
  },
  {
   "cell_type": "code",
   "execution_count": null,
   "metadata": {},
   "outputs": [],
   "source": [
    "# se hacen las predicciones con los datos de prueba\n",
    "pred_test = model.predict(test)\n",
    "pred_test  # se muestran las predicciones"
   ]
  },
  {
   "cell_type": "code",
   "execution_count": null,
   "metadata": {},
   "outputs": [],
   "source": [
    "# se lee el archivo de muestra\n",
    "submission = pd.read_csv(\"sample_submission_49d68Cx.csv\")\n",
    "# se reemplaza la columna Loan_Status con las predicciones\n",
    "submission['Loan_Status'] = pred_test\n",
    "# se reemplaza la columna Loan_ID con los datos de prueba\n",
    "submission['Loan_ID'] = test_original['Loan_ID']\n",
    "submission['Loan_Status'].replace(\n",
    "    0, 'Prestamo denegado', inplace=True)  # se reemplazan los 0 por N\n",
    "submission['Loan_Status'].replace(\n",
    "    1, 'Prestamo aprobado', inplace=True)  # se reemplazan los 1 por Y\n",
    "\n",
    "pd.DataFrame(submission, columns=['Loan_ID', 'Loan_Status']).to_csv(\n",
    "    'LogisticRegression.csv')  # se crea el archivo de salida"
   ]
  },
  {
   "attachments": {},
   "cell_type": "markdown",
   "metadata": {},
   "source": [
    "# Construccion del modelo con Decision Tree\n"
   ]
  },
  {
   "cell_type": "code",
   "execution_count": null,
   "metadata": {},
   "outputs": [],
   "source": [
    "# para hacer la validacion cruzada\n",
    "from sklearn.model_selection import StratifiedKFold\n",
    "from sklearn import tree  # para usar el arbol de decisiones\n",
    "\n",
    "i = 1\n",
    "# se crea el objeto para hacer la validacion cruzada\n",
    "kf = StratifiedKFold(n_splits=5, random_state=1, shuffle=True)\n",
    "for train_index, test_index in kf.split(X, y):\n",
    "    print('\\n{} of kfold {}'.format(i, kf.n_splits))\n",
    "    # se dividen los datos de entrenamiento\n",
    "    xtr, xvl = X.loc[train_index], X.loc[test_index]\n",
    "    ytr, yvl = y[train_index], y[test_index]  # se dividen los datos de prueba\n",
    "    model = tree.DecisionTreeClassifier(random_state=1)  # se crea el modelo\n",
    "    model.fit(xtr, ytr)  # se entrena el modelo\n",
    "    pred_test = model.predict(xvl)  # se hacen las predicciones\n",
    "    score = accuracy_score(yvl, pred_test)  # se calcula la exactitud\n",
    "    print('accuracy_score', score)\n",
    "    i += 1\n",
    "    pred_test = model.predict(test)  # se hacen las predicciones"
   ]
  },
  {
   "cell_type": "code",
   "execution_count": null,
   "metadata": {},
   "outputs": [],
   "source": [
    "submission = pd.read_csv(\"sample_submission_49d68Cx.csv\")\n",
    "# se reemplaza la columna Loan_Status con las predicciones\n",
    "submission['Loan_Status'] = pred_test\n",
    "# se reemplaza la columna Loan_ID con los datos de prueba\n",
    "submission['Loan_ID'] = test_original['Loan_ID']\n",
    "\n",
    "submission['Loan_Status'].replace(\n",
    "    0, 'Prestamo denegado', inplace=True)  # se reemplazan los 0 por N\n",
    "submission['Loan_Status'].replace(\n",
    "    1, 'Prestamo aprobado', inplace=True)  # se reemplazan los 1 por Y\n",
    "\n",
    "pd.DataFrame(submission, columns=['Loan_ID', 'Loan_Status']).to_csv(\n",
    "    'Decision Tree.csv')  # se crea el archivo de salida"
   ]
  },
  {
   "attachments": {},
   "cell_type": "markdown",
   "metadata": {},
   "source": [
    "# Construcción del modelo con Random Forest\n"
   ]
  },
  {
   "cell_type": "code",
   "execution_count": null,
   "metadata": {},
   "outputs": [],
   "source": [
    "from sklearn.ensemble import RandomForestClassifier\n",
    "\n",
    "i = 1\n",
    "kf = StratifiedKFold(n_splits=5, random_state=1, shuffle=True)\n",
    "for train_index, test_index in kf.split(X, y):\n",
    "    print('\\n{} of kfold {}'.format(i, kf.n_splits))\n",
    "    xtr, xvl = X.loc[train_index], X.loc[test_index]\n",
    "    ytr, yvl = y[train_index], y[test_index]\n",
    "    model = RandomForestClassifier(random_state=1, max_depth=10)\n",
    "    model.fit(xtr, ytr)\n",
    "    pred_test = model.predict(xvl)\n",
    "    score = accuracy_score(yvl, pred_test)\n",
    "    print('accuracy_score', score)\n",
    "    i += 1\n",
    "    pred_test = model.predict(test)"
   ]
  },
  {
   "cell_type": "code",
   "execution_count": null,
   "metadata": {},
   "outputs": [],
   "source": [
    "# para hacer la busqueda de parametros\n",
    "from sklearn.model_selection import train_test_split\n",
    "from sklearn.model_selection import GridSearchCV\n",
    "\n",
    "paramgrid = {'max_depth': list(range(1, 20, 2)),\n",
    "             'n_estimators': list(range(1, 200, 20))}\n",
    "\n",
    "# se crea el objeto para hacer la busqueda de parametros\n",
    "grid_search = GridSearchCV(RandomForestClassifier(random_state=1), paramgrid)\n",
    "\n",
    "# se dividen los datos de entrenamiento y prueba\n",
    "x_train, x_cv, y_train, y_cv = train_test_split(\n",
    "    X, y, test_size=0.3, random_state=1)\n",
    "\n",
    "# se entrena el modelo\n",
    "grid_search.fit(x_train, y_train)"
   ]
  },
  {
   "cell_type": "code",
   "execution_count": null,
   "metadata": {},
   "outputs": [],
   "source": [
    "# la funcion de GridSearchCV devuelve el mejor estimador y los mejores parametros para el modelo\n",
    "GridSearchCV(cv=None, error_score='raise', estimator=RandomForestClassifier(bootstrap=True, class_weight=None, criterion='gini',\n",
    "                                                                            max_depth=None, max_features='auto', max_leaf_nodes=None,\n",
    "                                                                            min_impurity_decrease=0.0,\n",
    "                                                                            min_samples_leaf=1, min_samples_split=2,\n",
    "                                                                            min_weight_fraction_leaf=0.0, n_estimators=10, n_jobs=1,\n",
    "                                                                            oob_score=False, random_state=1, verbose=0, warm_start=False), n_jobs=1, param_grid={'max_depth': [1, 3, 5, 7, 9, 11, 13, 15, 17, 19], 'n_estimators': [\n",
    "                                                                                1, 21, 41, 61, 81, 101, 121, 141, 161, 181]}, pre_dispatch='2*n_jobs', refit=True, return_train_score='warn', scoring=None, verbose=0)"
   ]
  },
  {
   "cell_type": "code",
   "execution_count": null,
   "metadata": {},
   "outputs": [],
   "source": [
    "grid_search.best_estimator_  # se muestran los mejores parametros"
   ]
  },
  {
   "cell_type": "code",
   "execution_count": null,
   "metadata": {},
   "outputs": [],
   "source": [
    "# ahora vamos a usar esos parametros para crear el modelo\n",
    "# y hacer las predicciones con los datos de prueba\n",
    "RandomForestClassifier(\n",
    "    bootstrap=True, class_weight=None, criterion='gini',\n",
    "    max_depth=3, max_features='auto', max_leaf_nodes=None,\n",
    "    min_impurity_decrease=0.0,\n",
    "    min_samples_leaf=1, min_samples_split=2,\n",
    "    min_weight_fraction_leaf=0.0, n_estimators=41, n_jobs=1,\n",
    "    oob_score=False, random_state=1, verbose=0, warm_start=False\n",
    ")"
   ]
  },
  {
   "cell_type": "code",
   "execution_count": null,
   "metadata": {},
   "outputs": [],
   "source": [
    "# Ahora vamos a usar esos parametros para crear el modelo y hacer las predicciones con los datos de prueba\n",
    "i = 1\n",
    "kf = StratifiedKFold(n_splits=5, random_state=1, shuffle=True)\n",
    "for train_index, test_index in kf.split(X, y):\n",
    "    print('\\n{} of kfold {}'.format(i, kf.n_splits))\n",
    "    xtr, xvl = X.loc[train_index], X.loc[test_index]\n",
    "    ytr, yvl = y[train_index], y[test_index]\n",
    "    model = RandomForestClassifier(random_state=1, max_depth=3, n_estimators=41)\n",
    "    model.fit(xtr, ytr)\n",
    "    pred_test = model.predict(xvl)\n",
    "    score = accuracy_score(yvl, pred_test)\n",
    "    print('accuracy_score', score)\n",
    "    i += 1\n",
    "    pred_test = model.predict(test)\n",
    "    pred2 = model.predict_proba(test)[:, 1]\n"
   ]
  },
  {
   "cell_type": "code",
   "execution_count": null,
   "metadata": {},
   "outputs": [],
   "source": [
    "# se crea el archivo de salida\n",
    "submission['Loan_Status'] = pred_test\n",
    "submission['Loan_ID'] = test_original['Loan_ID']\n",
    "\n",
    "# se reemplazan los 0 por denegados y los 1 por aprobados\n",
    "submission['Loan_Status'].replace(0, 'Prestamo denegado', inplace=True)\n",
    "submission['Loan_Status'].replace(1, 'Prestamo aprobado', inplace=True)\n",
    "\n",
    "pd.DataFrame(submission, columns=['Loan_ID', 'Loan_Status']).to_csv(\n",
    "    'Random Forest.csv')  # se crea el archivo de salida"
   ]
  },
  {
   "cell_type": "code",
   "execution_count": null,
   "metadata": {},
   "outputs": [],
   "source": [
    "# se crea un dataframe con las caracteristicas mas importantes\n",
    "importances = pd.Series(model.feature_importances_, index=X.columns)\n",
    "\n",
    "# se ordenan las caracteristicas de mayor a menor\n",
    "importances_sorted = importances.sort_values()\n",
    "importances_sorted.plot(kind='barh', color='lightgreen')"
   ]
  },
  {
   "attachments": {},
   "cell_type": "markdown",
   "metadata": {},
   "source": [
    "# Construccion del modelo con XGBoost"
   ]
  },
  {
   "cell_type": "code",
   "execution_count": 16,
   "metadata": {},
   "outputs": [
    {
     "name": "stdout",
     "output_type": "stream",
     "text": [
      "\n",
      "1 of kfold 5\n",
      "accuracy_score 0.8130081300813008\n",
      "\n",
      "2 of kfold 5\n",
      "accuracy_score 0.7967479674796748\n",
      "\n",
      "3 of kfold 5\n",
      "accuracy_score 0.7886178861788617\n",
      "\n",
      "4 of kfold 5\n",
      "accuracy_score 0.7723577235772358\n",
      "\n",
      "5 of kfold 5\n",
      "accuracy_score 0.7704918032786885\n"
     ]
    }
   ],
   "source": [
    "from xgboost import XGBClassifier\n",
    "from sklearn.model_selection import StratifiedKFold\n",
    "from sklearn.metrics import accuracy_score  # para ver la precision del modelo\n",
    "\n",
    "\n",
    "# se crea el modelo\n",
    "i = 1\n",
    "kf = StratifiedKFold(n_splits=5, random_state=1, shuffle=True)\n",
    "for train_index, test_index in kf.split(X, y):\n",
    "    print('\\n{} of kfold {}'.format(i, kf.n_splits))\n",
    "    xtr, xvl = X.loc[train_index], X.loc[test_index]\n",
    "    ytr, yvl = y[train_index], y[test_index]\n",
    "    model = XGBClassifier(n_estimators=50, max_depth=4)\n",
    "    model.fit(xtr, ytr)\n",
    "    pred_test = model.predict(xvl)\n",
    "    score = accuracy_score(yvl, pred_test)\n",
    "    print('accuracy_score', score)\n",
    "    i += 1\n",
    "    pred_test = model.predict(test)\n",
    "    pred3 = model.predict_proba(test)[:, 1]\n",
    "# Aqui se muestran los 5 mejores modelos de acuerdo a su precision"
   ]
  },
  {
   "cell_type": "code",
   "execution_count": 19,
   "metadata": {},
   "outputs": [
    {
     "data": {
      "text/plain": [
       "array([1, 1, 1, 1, 1, 1, 1, 0, 1, 1, 1, 1, 1, 0, 1, 1, 0, 1, 1, 0, 1, 1,\n",
       "       1, 1, 1, 0, 1, 0, 1, 1, 1, 1, 1, 1, 1, 0, 1, 1, 1, 1, 1, 1, 1, 1,\n",
       "       1, 1, 1, 1, 1, 1, 1, 1, 1, 1, 1, 0, 1, 1, 0, 1, 1, 1, 1, 0, 1, 1,\n",
       "       0, 0, 1, 0, 1, 0, 1, 1, 1, 1, 1, 1, 1, 1, 0, 1, 0, 0, 0, 0, 1, 1,\n",
       "       1, 1, 1, 1, 1, 1, 0, 1, 1, 1, 1, 1, 1, 0, 1, 1, 1, 1, 0, 1, 1, 1,\n",
       "       1, 1, 1, 1, 1, 1, 0, 0, 0, 0, 1, 1, 1, 0, 0, 1, 0, 1, 1, 1, 1, 0,\n",
       "       1, 1, 1, 1, 1, 0, 1, 1, 0, 1, 1, 1, 1, 1, 1, 0, 1, 1, 1, 1, 1, 0,\n",
       "       0, 1, 1, 1, 1, 1, 1, 0, 1, 1, 1, 0, 0, 1, 0, 0, 1, 0, 1, 0, 0, 1,\n",
       "       1, 1, 1, 1, 1, 1, 1, 1, 1, 1, 1, 1, 1, 1, 1, 1, 0, 0, 1, 1, 0, 1,\n",
       "       0, 1, 1, 1, 1, 1, 1, 1, 1, 1, 0, 1, 1, 0, 1, 1, 1, 1, 1, 1, 1, 1,\n",
       "       1, 1, 1, 1, 0, 1, 1, 1, 1, 1, 1, 1, 1, 1, 1, 0, 0, 1, 1, 0, 1, 0,\n",
       "       1, 0, 1, 0, 1, 1, 1, 1, 0, 1, 1, 1, 1, 0, 1, 1, 1, 0, 1, 1, 1, 1,\n",
       "       0, 1, 0, 1, 0, 0, 1, 1, 1, 0, 0, 1, 1, 1, 0, 1, 1, 1, 1, 1, 1, 1,\n",
       "       1, 0, 1, 1, 1, 1, 1, 0, 1, 1, 1, 1, 1, 1, 1, 0, 1, 1, 1, 0, 1, 1,\n",
       "       1, 1, 1, 0, 1, 1, 1, 1, 1, 0, 1, 1, 1, 0, 1, 1, 1, 0, 1, 1, 1, 1,\n",
       "       1, 1, 1, 1, 1, 1, 1, 1, 1, 0, 1, 1, 0, 0, 1, 1, 0, 1, 1, 1, 1, 1,\n",
       "       1, 1, 1, 1, 1, 1, 0, 1, 1, 1, 1, 1, 1, 1, 1])"
      ]
     },
     "execution_count": 19,
     "metadata": {},
     "output_type": "execute_result"
    }
   ],
   "source": [
    "pred_test"
   ]
  },
  {
   "cell_type": "code",
   "execution_count": null,
   "metadata": {},
   "outputs": [],
   "source": [
    "# Aqui vamos a generar un archivo de salida para este modelo\n",
    "submission['Loan_Status'] = pred_test\n",
    "submission['Loan_ID'] = test_original['Loan_ID']\n",
    "\n",
    "# se reemplazan los 0 por denegados y los 1 por aprobados\n",
    "submission['Loan_Status'].replace(0, 'Prestamo denegado', inplace=True)\n",
    "submission['Loan_Status'].replace(1, 'Prestamo aprobado', inplace=True)\n",
    "\n",
    "pd.DataFrame(submission, columns=['Loan_ID', 'Loan_Status']).to_csv(\n",
    "    'XGBoost.csv')  # se crea el archivo de salida"
   ]
  }
 ],
 "metadata": {
  "kernelspec": {
   "display_name": "Python 3",
   "language": "python",
   "name": "python3"
  },
  "language_info": {
   "codemirror_mode": {
    "name": "ipython",
    "version": 3
   },
   "file_extension": ".py",
   "mimetype": "text/x-python",
   "name": "python",
   "nbconvert_exporter": "python",
   "pygments_lexer": "ipython3",
   "version": "3.11.4"
  },
  "orig_nbformat": 4
 },
 "nbformat": 4,
 "nbformat_minor": 2
}
